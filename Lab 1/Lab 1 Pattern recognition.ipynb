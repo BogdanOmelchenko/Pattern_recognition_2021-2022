{
 "cells": [
  {
   "cell_type": "code",
   "execution_count": 1,
   "id": "3f67c0fc",
   "metadata": {},
   "outputs": [
    {
     "data": {
      "image/png": "[encoded data removed]",
      "text/plain": [
       "<Figure size 432x288 with 1 Axes>"
      ]
     },
     "metadata": {
      "needs_background": "light"
     },
     "output_type": "display_data"
    },
    {
     "data": {
      "image/png": "[encoded data removed]",
      "text/plain": [
       "<Figure size 432x288 with 1 Axes>"
      ]
     },
     "metadata": {
      "needs_background": "light"
     },
     "output_type": "display_data"
    },
    {
     "data": {
      "image/png": "[encoded data removed]",
      "text/plain": [
       "<Figure size 432x288 with 1 Axes>"
      ]
     },
     "metadata": {
      "needs_background": "light"
     },
     "output_type": "display_data"
    },
    {
     "data": {
      "image/png": "[encoded data removed]",
      "text/plain": [
       "<Figure size 432x288 with 1 Axes>"
      ]
     },
     "metadata": {
      "needs_background": "light"
     },
     "output_type": "display_data"
    },
    {
     "data": {
      "image/png": "[encoded data removed]",
      "text/plain": [
       "<Figure size 432x288 with 1 Axes>"
      ]
     },
     "metadata": {
      "needs_background": "light"
     },
     "output_type": "display_data"
    },
    {
     "data": {
      "image/png": "[encoded data removed]",
      "text/plain": [
       "<Figure size 432x288 with 1 Axes>"
      ]
     },
     "metadata": {
      "needs_background": "light"
     },
     "output_type": "display_data"
    },
    {
     "name": "stdout",
     "output_type": "stream",
     "text": [
      "26.25\n"
     ]
    }
   ],
   "source": [
    "from __future__ import division\n",
    "import itertools\n",
    "import sys\n",
    "import time\n",
    "import random\n",
    "import cv2\n",
    "import numpy as np\n",
    "from numpy import newaxis as nax\n",
    "import scipy.misc as misc\n",
    "from scipy.stats import multivariate_normal\n",
    "from numpy import asarray, concatenate, cov, zeros\n",
    "import matplotlib.pyplot as plt\n",
    "from PIL import Image\n",
    "    \n",
    "def get_neighbors(grid, x, y):\n",
    "    out = []\n",
    "    if x > 0:\n",
    "        out.append(grid[x-1, y,0])\n",
    "    if y > 0:\n",
    "        out.append(grid[x, y-1,0])\n",
    "    if y < grid.shape[1] - 1:\n",
    "        out.append(grid[x, y+1,0])\n",
    "    if x < grid.shape[0] - 1:\n",
    "        out.append(grid[x+1, y,0])\n",
    "    return out\n",
    "\n",
    "def probability(image, shape, norm_raspr1, norm_raspr2):\n",
    "    marked_image_data = zeros(shape=shape, dtype=float)\n",
    "    for i in range(shape[0]):\n",
    "        for j in range(shape[1]):\n",
    "            pdf1 = norm_raspr1.pdf(image[i][j])\n",
    "            pdf2 = norm_raspr2.pdf(image[i][j])\n",
    "            if pdf1 > pdf2:\n",
    "                marked_image_data[i][j] = 1, pdf1, pdf2\n",
    "            else:\n",
    "                marked_image_data[i][j] = 0, pdf1, pdf2\n",
    "    return marked_image_data\n",
    "    \n",
    "def sampler(massive, shape):\n",
    "    eps = 0.2\n",
    "    for i in range(shape[0]):\n",
    "        for j in range(shape[1]):\n",
    "            neighbors = get_neighbors(massive,i,j)\n",
    "            k1 = massive[i, j][1]\n",
    "            k2 = massive[i, j][2]\n",
    "            for k in neighbors:\n",
    "                if(k == 1):\n",
    "                    k1 = k1*(1-eps)\n",
    "                else:\n",
    "                    k1 = k1*eps\n",
    "                if(k == 0):\n",
    "                    k2 = k2*(1-eps)\n",
    "                else:\n",
    "                    k2 = k2*eps\n",
    "            prob_k1, prob_k2 = k1 / (k1 + k2), k2 / (k1 + k2)\n",
    "            if(prob_k1 > prob_k2):\n",
    "                massive[i, j, 0] = 1\n",
    "            else:\n",
    "                massive[i, j, 0] = 0\n",
    "            massive[i, j, 1:] = prob_k1, prob_k2\n",
    "    return massive\n",
    "\n",
    "t = time.process_time()\n",
    "image_path = 'D:/Labs KPI/Labs Pattern/lab1/stock-photo-golden-wheat-field-blue-clear.jpg'\n",
    "image = Image.open(image_path)\n",
    "image = cv2.imread(image_path)\n",
    "image = cv2.resize(image,(256,256))\n",
    "shape = image.shape\n",
    "image_1 = image[:40, :40]\n",
    "image_2 = image[230:, 230:]\n",
    "image_1_conc = concatenate((image_1), axis = 0)\n",
    "image_1_conc_cov = cov(image_1_conc, rowvar=False)\n",
    "norm_raspr1 = multivariate_normal(mean = image_1_conc.mean(axis = 0), cov = image_1_conc_cov)\n",
    "image_2_conc = concatenate((image_2), axis = 0)\n",
    "image_2_conc_cov = cov(image_2_conc, rowvar=False)\n",
    "norm_raspr2 = multivariate_normal(mean = image_2_conc.mean(axis = 0), cov = image_2_conc_cov)\n",
    "marked_image_data = probability(image, shape, norm_raspr1, norm_raspr2)\n",
    "for i in range(101):\n",
    "        marked_image_data = sampler(marked_image_data, shape)\n",
    "        if i % 20 == 0:\n",
    "            plt.imshow(marked_image_data[:, :, 0])\n",
    "            plt.show()\n",
    "print(time.process_time() - t)"
   ]
  },
  {
   "cell_type": "code",
   "execution_count": null,
   "id": "9e646354",
   "metadata": {},
   "outputs": [],
   "source": []
  }
 ],
 "metadata": {
  "kernelspec": {
   "display_name": "Python 3 (ipykernel)",
   "language": "python",
   "name": "python3"
  },
  "language_info": {
   "codemirror_mode": {
    "name": "ipython",
    "version": 3
   },
   "file_extension": ".py",
   "mimetype": "text/x-python",
   "name": "python",
   "nbconvert_exporter": "python",
   "pygments_lexer": "ipython3",
   "version": "3.9.9"
  }
 },
 "nbformat": 4,
 "nbformat_minor": 5
}
