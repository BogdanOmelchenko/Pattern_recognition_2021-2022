{
 "cells": [
  {
   "cell_type": "code",
   "execution_count": 10,
   "id": "0ce6dfc2",
   "metadata": {},
   "outputs": [],
   "source": [
    "from PIL import Image\n",
    "import numpy as np\n",
    "from scipy.stats import multivariate_normal\n",
    "from matplotlib import pyplot as plt\n",
    "from functools import reduce\n",
    "from random import randint\n",
    "import math\n",
    "import time\n",
    "import cv2\n",
    "from numba import jit, float32"
   ]
  },
  {
   "cell_type": "code",
   "execution_count": 40,
   "id": "3ecda18c",
   "metadata": {},
   "outputs": [],
   "source": [
    "image_path = 'D:/Labs KPI/Labs Pattern recognition 2021/Tau.jpg'\n",
    "image = Image.open(image_path)\n",
    "image = cv2.imread(image_path)\n",
    "image = cv2.resize(image,(256,256))"
   ]
  },
  {
   "cell_type": "code",
   "execution_count": 49,
   "id": "dc7de6ac",
   "metadata": {},
   "outputs": [],
   "source": [
    "@jit(nopython=True)\n",
    "def multivariate_normall(x, mu1, cov1, mu2, cov2):\n",
    "    size = len(x)\n",
    "    pdf_1=(1.0/ (math.pow((2*math.pi),float(size)/2) * math.pow(np.linalg.det(cov1),1.0/2)))*math.pow(math.e, -0.5 * ((x - mu1).dot(np.linalg.inv(cov1)).dot((x - mu1).T)))\n",
    "    pdf_2=(1.0/ (math.pow((2*math.pi),float(size)/2) * math.pow(np.linalg.det(cov2),1.0/2)))*math.pow(math.e, -0.5 * ((x - mu2).dot(np.linalg.inv(cov2)).dot((x - mu2).T)))\n",
    "    return randint(0, 1), pdf_1, pdf_2\n",
    "\n",
    "@jit(nopython=True)\n",
    "def functions(image, p_k1, p_k2, mu_1, mu_2, cov_1, cov_2, shape, length):\n",
    "    alpha_matrix  = np.zeros(shape=(*shape, 2), dtype=float32)\n",
    "    alpha_1_sum = 0\n",
    "    alpha_2_sum = 0\n",
    "    for i in range(shape[0]):\n",
    "        for j in range(shape[1]):\n",
    "            _, like_1, like_2 = multivariate_normall(image[i][j], mu_1, cov_1, mu_2, cov_2)\n",
    "            alpha_1 = (p_k1 * like_1)/((p_k1 * like_1) + (p_k2 * like_2))\n",
    "            alpha_2 = (p_k2 * like_2)/((p_k1 * like_1) + (p_k2 * like_2))\n",
    "            alpha_matrix[i][j] = alpha_1, alpha_2\n",
    "            alpha_1_sum = alpha_1_sum + alpha_1\n",
    "            alpha_2_sum = alpha_2_sum + alpha_2\n",
    "    p_k1 = alpha_1_sum/(shape[0]*shape[1])\n",
    "    p_k2 = alpha_2_sum/(shape[0]*shape[1])\n",
    "    for r in range(length):\n",
    "        mu_1[r] = np.sum(alpha_matrix[:, :, 0]*image[:, :, r])/alpha_1_sum\n",
    "        mu_2[r] = np.sum(alpha_matrix[:, :, 1]*image[:, :, r])/alpha_2_sum\n",
    "        for s in range(length):\n",
    "            cov_1[r, s] = np.sum(alpha_matrix[:, :, 0]*(image[:, :, r]-mu_1[r])*(image[:, :, s]-mu_1[s]))/alpha_1_sum\n",
    "            cov_2[r, s] = np.sum(alpha_matrix[:, :, 1]*(image[:, :, r]-mu_2[r])*(image[:, :, s]-mu_2[s]))/alpha_2_sum\n",
    "    return mu_1, mu_2, cov_1, cov_2, p_k1, p_k2\n",
    "\n",
    "@jit(nopython=True)\n",
    "def get_neighbors(grid, x, y):\n",
    "    out = []\n",
    "    if x > 0:\n",
    "        out.append(grid[x-1, y,0])\n",
    "    if y > 0:\n",
    "        out.append(grid[x, y-1,0])\n",
    "    if y < grid.shape[1] - 1:\n",
    "        out.append(grid[x, y+1,0])\n",
    "    if x < grid.shape[0] - 1:\n",
    "        out.append(grid[x+1, y,0])\n",
    "    return out\n",
    "\n",
    "@jit(nopython=True)\n",
    "def sampler(massive, shape):\n",
    "    eps = 0.2\n",
    "    for i in range(shape[0]):\n",
    "        for j in range(shape[1]):\n",
    "            neighbors = get_neighbors(massive,i,j)\n",
    "            k1 = massive[i, j][1]\n",
    "            k2 = massive[i, j][2]\n",
    "            for k in neighbors:\n",
    "                if(k == 1):\n",
    "                    k1 = k1*(1-eps)\n",
    "                else:\n",
    "                    k1 = k1*eps\n",
    "                if(k == 0):\n",
    "                    k2 = k2*(1-eps)\n",
    "                else:\n",
    "                    k2 = k2*eps\n",
    "            prob_k1, prob_k2 = k1 / (k1 + k2), k2 / (k1 + k2)\n",
    "            if(prob_k1 > prob_k2):\n",
    "                massive[i, j, 0] = 1\n",
    "            else:\n",
    "                massive[i, j, 0] = 0\n",
    "            massive[i, j, 1:] = prob_k1, prob_k2\n",
    "    return massive\n",
    "\n",
    "\n",
    "def EM(image, em_iters=100):\n",
    "    shape = image.shape\n",
    "    p_k1 = 1/2.\n",
    "    p_k2 = 1/2.\n",
    "    mu_1 = np.array([0,0,0], dtype=np.float64)\n",
    "    mu_2 = np.array([200,170,200], dtype=np.float64)\n",
    "    cov_1 = np.array([[10**2,2**2,2**2], [2**2, 10**2, 2**2],[2**2, 2**2, 10**2]], dtype=np.float64)\n",
    "    cov_2 = np.array([[10**2,2**2,2**2], [2**2, 10**2, 2**2],[2**2, 2**2, 10**2]], dtype=np.float64)\n",
    "    for iteration in range(em_iters):\n",
    "        #t = time.process_time()\n",
    "        #print('iters number', iteration)\n",
    "        mu_1, mu_2, cov_1, cov_2, p_k1, p_k2 = functions(image, p_k1, p_k2, mu_1, mu_2, cov_1, cov_2, shape[:2], shape[2])\n",
    "        #print(time.process_time() - t)\n",
    "    matrix = np.zeros(shape=shape, dtype=float)\n",
    "    for i in range(shape[0]):\n",
    "        for j in range(shape[1]):\n",
    "            matrix[i, j] = multivariate_normall(image[i][j], mu_1, cov_1, mu_2, cov_2)\n",
    "    for i in range(em_iters):\n",
    "        matrix = sampler(matrix, shape)\n",
    "    return matrix[:, :, 0] "
   ]
  },
  {
   "cell_type": "code",
   "execution_count": 50,
   "id": "8d034655",
   "metadata": {},
   "outputs": [
    {
     "data": {
      "image/png": "[encoded data removed]",
      "text/plain": [
       "<Figure size 432x288 with 1 Axes>"
      ]
     },
     "metadata": {
      "needs_background": "light"
     },
     "output_type": "display_data"
    },
    {
     "name": "stdout",
     "output_type": "stream",
     "text": [
      "19.34375\n"
     ]
    }
   ],
   "source": [
    "t = time.process_time()\n",
    "marked_image_data = EM(image, 100)\n",
    "marked_image_data = np.expand_dims(marked_image_data, axis=2)\n",
    "marked_image_data = np.tile(marked_image_data, (1, 1, 3))\n",
    "plt.imshow(marked_image_data)\n",
    "plt.show()\n",
    "print(time.process_time() - t)"
   ]
  },
  {
   "cell_type": "code",
   "execution_count": null,
   "id": "c6c65afd",
   "metadata": {},
   "outputs": [],
   "source": []
  }
 ],
 "metadata": {
  "kernelspec": {
   "display_name": "Python 3 (ipykernel)",
   "language": "python",
   "name": "python3"
  },
  "language_info": {
   "codemirror_mode": {
    "name": "ipython",
    "version": 3
   },
   "file_extension": ".py",
   "mimetype": "text/x-python",
   "name": "python",
   "nbconvert_exporter": "python",
   "pygments_lexer": "ipython3",
   "version": "3.9.9"
  }
 },
 "nbformat": 4,
 "nbformat_minor": 5
}
