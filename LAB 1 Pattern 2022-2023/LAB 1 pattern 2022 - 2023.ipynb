{
 "cells": [
  {
   "cell_type": "code",
   "execution_count": 38,
   "id": "24d5ab99",
   "metadata": {},
   "outputs": [],
   "source": [
    "import numpy as np\n",
    "import time\n",
    "import sys"
   ]
  },
  {
   "cell_type": "code",
   "execution_count": 39,
   "id": "f1d697f2",
   "metadata": {},
   "outputs": [],
   "source": [
    "a1 =   np.array([[0, 0, 3, 0, 2, 0, 6, 0, 0],\n",
    "                 [9, 0, 0, 3, 0, 5, 0, 0, 1],\n",
    "                 [0, 0, 1, 8, 0, 6, 4, 0, 0],\n",
    "\n",
    "                 [0, 0, 8, 1, 0, 2, 9, 0, 0],\n",
    "                 [7, 0, 0, 0, 0, 0, 0, 0, 8],\n",
    "                 [0, 0, 6, 7, 0, 8, 2, 0, 0],\n",
    "\n",
    "                 [0, 0, 2, 6, 0, 9, 5, 0, 0],\n",
    "                 [8, 0, 0, 2, 0, 3, 0, 0, 9],\n",
    "                 [0, 0, 5, 0, 1, 0, 3, 0, 0]])\n"
   ]
  },
  {
   "cell_type": "code",
   "execution_count": 40,
   "id": "7b75d228",
   "metadata": {},
   "outputs": [],
   "source": [
    "a2 =   np.array([[0, 0, 9, 0, 3, 0, 0, 2, 7],\n",
    "                 [0, 6, 2, 0, 0, 0, 0, 9, 0],\n",
    "                 [0, 7, 0, 0, 0, 0, 0, 0, 0],\n",
    "\n",
    "                 [0, 4, 0, 0, 2, 0, 1, 3, 0],\n",
    "                 [0, 0, 0, 0, 9, 0, 0, 0, 4],\n",
    "                 [0, 0, 8, 0, 0, 5, 0, 7, 0],\n",
    "\n",
    "                 [0, 0, 7, 0, 5, 0, 0, 8, 0],\n",
    "                 [0, 0, 0, 0, 1, 0, 7, 5, 0],\n",
    "                 [1, 0, 0, 0, 7, 0, 0, 0, 2]])\n"
   ]
  },
  {
   "cell_type": "code",
   "execution_count": 41,
   "id": "7b9970ba",
   "metadata": {},
   "outputs": [],
   "source": [
    "a3 =   np.array([[1, 1, 1, 0, 0, 0, 0, 0, 0],\n",
    "                 [0, 6, 2, 0, 0, 0, 0, 9, 0],\n",
    "                 [0, 7, 0, 0, 0, 0, 0, 0, 0],\n",
    "\n",
    "                 [0, 4, 0, 0, 2, 0, 1, 3, 0],\n",
    "                 [0, 0, 0, 0, 9, 0, 0, 0, 4],\n",
    "                 [0, 0, 8, 0, 0, 5, 0, 7, 0],\n",
    "\n",
    "                 [0, 0, 7, 0, 5, 0, 0, 8, 0],\n",
    "                 [0, 0, 0, 0, 1, 0, 7, 5, 0],\n",
    "                 [1, 0, 0, 0, 7, 0, 0, 0, 2]])\n"
   ]
  },
  {
   "cell_type": "code",
   "execution_count": 42,
   "id": "8190de16",
   "metadata": {},
   "outputs": [],
   "source": [
    "def vid(a):\n",
    "    a = a.astype(np.int8)\n",
    "    print(\"\\n\\n---------- + ----------- + -----------\",end=\"\")\n",
    "    for i in range(0,9):\n",
    "        print(\"\\n\")\n",
    "        for j in range(0,9):\n",
    "            b = \"  |  \" if ((j+1)%3 == 0) else \"   \"\n",
    "            print(a[i][j], end = b)\n",
    "        if ((i+1)%3 == 0) and ((i+1) != 9):\n",
    "            print(\"\\n\\n---------- + ----------- + -----------\",end=\"\")\n",
    "    print(\"\\n\\n---------- + ----------- + -----------\",end=\"\")\n",
    "\n",
    "def sosedi(i,j):\n",
    "    s = []\n",
    "    for k in range (9):\n",
    "        for l in range (9):\n",
    "            if(k == i or l == j):\n",
    "                s.append((k,l))\n",
    "    for k in range (3):\n",
    "        for l in range (3):\n",
    "            if (i % 3 == k and j % 3 == l):\n",
    "                for z in range (3):\n",
    "                    for x in range (3):\n",
    "                        s.append((i - k + z,j - l + x))\n",
    "    s = list(set(s))\n",
    "    s.remove((i,j))\n",
    "    return s\n",
    "\n",
    "def create(a):\n",
    "    b = np.ones((9,9,9))\n",
    "    for i in range(9):\n",
    "        for j in range(9):\n",
    "            if (a[i][j] != 0):\n",
    "                for k in range(9):\n",
    "                    if(a[i][j] - 1 != k):\n",
    "                        b[i][j][k] = 0\n",
    "                    #else:\n",
    "                        #b[i][j][k] = 1\n",
    "    return b\n",
    "\n",
    "def peredelka_sosedey(a):\n",
    "    for i in range(9):\n",
    "        for j in range(9):\n",
    "            s = sosedi(i,j)\n",
    "            h = 0\n",
    "            if(a[i][j].sum() == 1):\n",
    "                for k in range(9):\n",
    "                    if(a[i][j][k] == 1):\n",
    "                        for m,n in s:\n",
    "                            a[m][n][k] = 0\n",
    "            if(a[i][j].sum() == 0):\n",
    "                print(\"vhod nepravilniy\")\n",
    "                sys.exit()\n",
    "    return a\n",
    "\n",
    "def iz_binarnogo_v_norm_chisla(a):\n",
    "    c = np.zeros((9,9))\n",
    "    for i in range(9):\n",
    "        for j in range(9):\n",
    "            l = 0\n",
    "            if(a[i][j].sum() > 1):\n",
    "                c[i][j] = 0\n",
    "            else:\n",
    "                for k in range(9):\n",
    "                    l = a[i][j][k]\n",
    "                    if (l == 1):\n",
    "                        c[i][j] = k + 1\n",
    "                    l = 0\n",
    "    return c\n",
    "    \n",
    "    \n",
    "def reshenie(a):\n",
    "    y = 0\n",
    "    v = create(a)\n",
    "    while v.sum() != 81:\n",
    "        v = peredelka_sosedey(v)\n",
    "        y += 1\n",
    "        if(y == 20):\n",
    "            #k = iz_binarnogo_v_norm_chisla(v)\n",
    "            #v\n",
    "            print(\"ne do konca reshaet\")\n",
    "            k = iz_binarnogo_v_norm_chisla(v)\n",
    "            vid(k)\n",
    "            sys.exit()\n",
    "    k = iz_binarnogo_v_norm_chisla(v)\n",
    "    vid(k)"
   ]
  },
  {
   "cell_type": "code",
   "execution_count": 43,
   "id": "3a4827da",
   "metadata": {},
   "outputs": [
    {
     "name": "stdout",
     "output_type": "stream",
     "text": [
      "\n",
      "\n",
      "---------- + ----------- + -----------\n",
      "\n",
      "4   8   3  |  9   2   1  |  6   5   7  |  \n",
      "\n",
      "9   6   7  |  3   4   5  |  8   2   1  |  \n",
      "\n",
      "2   5   1  |  8   7   6  |  4   9   3  |  \n",
      "\n",
      "---------- + ----------- + -----------\n",
      "\n",
      "5   4   8  |  1   3   2  |  9   7   6  |  \n",
      "\n",
      "7   2   9  |  5   6   4  |  1   3   8  |  \n",
      "\n",
      "1   3   6  |  7   9   8  |  2   4   5  |  \n",
      "\n",
      "---------- + ----------- + -----------\n",
      "\n",
      "3   7   2  |  6   8   9  |  5   1   4  |  \n",
      "\n",
      "8   1   4  |  2   5   3  |  7   6   9  |  \n",
      "\n",
      "6   9   5  |  4   1   7  |  3   8   2  |  \n",
      "\n",
      "---------- + ----------- + -----------"
     ]
    }
   ],
   "source": [
    "reshenie(a1)"
   ]
  },
  {
   "cell_type": "code",
   "execution_count": 44,
   "id": "d55600f8",
   "metadata": {},
   "outputs": [
    {
     "name": "stdout",
     "output_type": "stream",
     "text": [
      "ne do konca reshaet\n",
      "\n",
      "\n",
      "---------- + ----------- + -----------\n",
      "\n",
      "0   0   9  |  0   3   0  |  0   2   7  |  \n",
      "\n",
      "0   6   2  |  0   0   0  |  0   9   0  |  \n",
      "\n",
      "0   7   0  |  0   0   0  |  0   1   0  |  \n",
      "\n",
      "---------- + ----------- + -----------\n",
      "\n",
      "0   4   0  |  0   2   0  |  1   3   0  |  \n",
      "\n",
      "0   0   0  |  0   9   0  |  0   6   4  |  \n",
      "\n",
      "0   0   8  |  0   0   5  |  2   7   9  |  \n",
      "\n",
      "---------- + ----------- + -----------\n",
      "\n",
      "0   0   7  |  0   5   0  |  0   8   0  |  \n",
      "\n",
      "0   0   0  |  0   1   0  |  7   5   0  |  \n",
      "\n",
      "1   0   0  |  0   7   0  |  0   4   2  |  \n",
      "\n",
      "---------- + ----------- + -----------"
     ]
    },
    {
     "ename": "SystemExit",
     "evalue": "",
     "output_type": "error",
     "traceback": [
      "An exception has occurred, use %tb to see the full traceback.\n",
      "\u001b[1;31mSystemExit\u001b[0m\n"
     ]
    }
   ],
   "source": [
    "reshenie(a2)"
   ]
  },
  {
   "cell_type": "code",
   "execution_count": 45,
   "id": "47cc85f5",
   "metadata": {},
   "outputs": [
    {
     "name": "stdout",
     "output_type": "stream",
     "text": [
      "vhod nepravilniy\n"
     ]
    },
    {
     "ename": "SystemExit",
     "evalue": "",
     "output_type": "error",
     "traceback": [
      "An exception has occurred, use %tb to see the full traceback.\n",
      "\u001b[1;31mSystemExit\u001b[0m\n"
     ]
    }
   ],
   "source": [
    "reshenie(a3)"
   ]
  },
  {
   "cell_type": "code",
   "execution_count": null,
   "id": "265518ba",
   "metadata": {},
   "outputs": [],
   "source": []
  }
 ],
 "metadata": {
  "kernelspec": {
   "display_name": "Python 3 (ipykernel)",
   "language": "python",
   "name": "python3"
  },
  "language_info": {
   "codemirror_mode": {
    "name": "ipython",
    "version": 3
   },
   "file_extension": ".py",
   "mimetype": "text/x-python",
   "name": "python",
   "nbconvert_exporter": "python",
   "pygments_lexer": "ipython3",
   "version": "3.9.9"
  }
 },
 "nbformat": 4,
 "nbformat_minor": 5
}
